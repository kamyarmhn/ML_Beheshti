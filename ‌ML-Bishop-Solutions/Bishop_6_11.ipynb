{
 "cells": [
  {
   "cell_type": "markdown",
   "id": "dc5947fa",
   "metadata": {},
   "source": [
    "# حل تمرین 6.11 — نمایش کرنل گاوسی به‌صورت ضرب داخلی بی‌نهایت‌بعدی (سبک Bishop)"
   ]
  },
  {
   "cell_type": "markdown",
   "id": "c66d86b4",
   "metadata": {},
   "source": [
    "**هدف**  \n",
    "نشان دهید کرنل گاوسی را می‌توان به‌صورت ضرب داخلی یک بردار ویژگیِ بی‌نهایت‌بعدی نوشت. از بسط (6.25) استفاده کنید و عامل میانی را به‌صورت سری توانی گسترش دهید."
   ]
  },
  {
   "cell_type": "markdown",
   "id": "ab8f7cee",
   "metadata": {},
   "source": [
    "## گام ۱: کرنل گاوسی و بسط فاصله  \n",
    "$k(\\mathbf{x},\\mathbf{x}') \\,=\\, \\exp\\!\\big(-\\,\\tfrac{\\|\\mathbf{x}-\\mathbf{x}'\\|^2}{2\\sigma^2}\\big)$  \n",
    "\n",
    "$\\|\\mathbf{x}-\\mathbf{x}'\\|^2 \\,=\\, \\|\\mathbf{x}\\|^2 - 2\\,\\mathbf{x}^\\top\\mathbf{x}' + \\|\\mathbf{x}'\\|^2$"
   ]
  },
  {
   "cell_type": "markdown",
   "id": "4e9de8cf",
   "metadata": {},
   "source": [
    "## گام ۲: تفکیک نمایی به سه عامل  \n",
    "$k(\\mathbf{x},\\mathbf{x}') \\,=\\, \\exp\\!\\big(-\\tfrac{\\|\\mathbf{x}\\|^2}{2\\sigma^2}\\big)\\; \\exp\\!\\big(\\tfrac{\\mathbf{x}^\\top\\mathbf{x}'}{\\sigma^2}\\big)\\; \\exp\\!\\big(-\\tfrac{\\|\\mathbf{x}'\\|^2}{2\\sigma^2}\\big)$"
   ]
  },
  {
   "cell_type": "markdown",
   "id": "b06eee7a",
   "metadata": {},
   "source": [
    "## گام ۳: بسط سری توانیِ عامل میانی  \n",
    "$\\exp(z) \\,=\\, \\sum_{j=0}^{\\infty} \\tfrac{z^j}{j!}$  \n",
    "\n",
    "$\\exp\\!\\big(\\tfrac{\\mathbf{x}^\\top\\mathbf{x}'}{\\sigma^2}\\big) \\,=\\, \\sum_{j=0}^{\\infty} \\tfrac{1}{j!}\\,\\big(\\tfrac{\\mathbf{x}^\\top\\mathbf{x}'}{\\sigma^2}\\big)^{\\!j}$"
   ]
  },
  {
   "cell_type": "markdown",
   "id": "d7e01793",
   "metadata": {},
   "source": [
    "## گام ۴: بسط چندبعدی با چندجمله‌ای چندمتغیره  \n",
    "$(\\mathbf{x}^\\top\\mathbf{x}')^{\\!j} \\,=\\, \\Big(\\sum_{d=1}^D x_d x'_d\\Big)^{\\!j} \\,=\\, \\sum_{\\lvert\\alpha\\rvert = j} \\tfrac{j!}{\\alpha!}\\,\\mathbf{x}^{\\alpha}\\,\\mathbf{x}'^{\\alpha}$  \n",
    "\n",
    "$\\alpha=(\\alpha_1,\\ldots,\\alpha_D),\\; \\lvert\\alpha\\rvert=\\sum_d \\alpha_d,\\; \\alpha! = \\prod_d \\alpha_d!,\\; \\mathbf{x}^{\\alpha}=\\prod_d x_d^{\\alpha_d}$"
   ]
  },
  {
   "cell_type": "markdown",
   "id": "485dc5aa",
   "metadata": {},
   "source": [
    "## گام ۵: بازنویسی به‌صورت ضرب داخلی  \n",
    "$k(\\mathbf{x},\\mathbf{x}') \\,=\\, \\exp\\!\\big(-\\tfrac{\\|\\mathbf{x}\\|^2}{2\\sigma^2}\\big)\\; \\exp\\!\\big(-\\tfrac{\\|\\mathbf{x}'\\|^2}{2\\sigma^2}\\big)\\;\\sum_{j=0}^{\\infty} \\tfrac{1}{j!}\\,\\big(\\tfrac{\\mathbf{x}^\\top\\mathbf{x}'}{\\sigma^2}\\big)^{\\!j}$  \n",
    "\n",
    "$\\;\\;\\;\\;=\\; \\sum_{j=0}^{\\infty}\\; \\sum_{\\lvert\\alpha\\rvert=j} \\Big[\\, \\exp\\!\\big(-\\tfrac{\\|\\mathbf{x}\\|^2}{2\\sigma^2}\\big)\\; \\tfrac{\\mathbf{x}^{\\alpha}}{\\sigma^{\\lvert\\alpha\\rvert}\\sqrt{\\alpha!}} \\Big] \\; \\Big[\\, \\exp\\!\\big(-\\tfrac{\\|\\mathbf{x}'\\|^2}{2\\sigma^2}\\big)\\; \\tfrac{\\mathbf{x}'^{\\alpha}}{\\sigma^{\\lvert\\alpha\\rvert}\\sqrt{\\alpha!}} \\Big]$  \n",
    "\n",
    "پس با تعریف مؤلفه‌های ویژگی:  \n",
    "\n",
    "$\\phi_{\\alpha}(\\mathbf{x}) \\,=\\, \\exp\\!\\big(-\\tfrac{\\|\\mathbf{x}\\|^2}{2\\sigma^2}\\big)\\; \\tfrac{\\mathbf{x}^{\\alpha}}{\\sigma^{\\lvert\\alpha\\rvert}\\sqrt{\\alpha!}}$  \n",
    "\n",
    "داریم:  \n",
    "\n",
    "$k(\\mathbf{x},\\mathbf{x}') \\,=\\, \\sum_{\\alpha\\in\\mathbb{N}^D} \\phi_{\\alpha}(\\mathbf{x})\\,\\phi_{\\alpha}(\\mathbf{x}') \\,=\\, \\langle\\phi(\\mathbf{x}),\\phi(\\mathbf{x}')\\rangle$"
   ]
  },
  {
   "cell_type": "markdown",
   "id": "cf75b875",
   "metadata": {},
   "source": [
    "## یادداشت: حالت یک‌بعدی  \n",
    "$\\phi_j(x) \\,=\\, \\exp\\!\\big(-\\tfrac{x^2}{2\\sigma^2}\\big)\\; \\tfrac{x^{j}}{\\sigma^{j}\\sqrt{j!}}$  \n",
    "\n",
    "$k(x,x') \\,=\\, \\sum_{j=0}^{\\infty} \\phi_j(x)\\,\\phi_j(x')$"
   ]
  },
  {
   "cell_type": "markdown",
   "id": "0c775ee9",
   "metadata": {},
   "source": [
    "## پاسخ نهایی  \n",
    "$k(\\mathbf{x},\\mathbf{x}')$ را می‌توان به‌صورت ضرب داخلی در فضای ویژگی بی‌نهایت‌بعدی با مؤلفه‌های  \n",
    "\n",
    "$\\phi_{\\alpha}(\\mathbf{x}) = \\exp\\!\\big(-\\tfrac{\\|\\mathbf{x}\\|^2}{2\\sigma^2}\\big)\\; \\tfrac{\\mathbf{x}^{\\alpha}}{\\sigma^{\\lvert\\alpha\\rvert}\\sqrt{\\alpha!}}$  \n",
    "\n",
    "نوشت؛ لذا کرنل گاوسی یک کرنلِ خطی در فضای ویژگیِ بی‌نهایت‌بعدی است (اما محاسبهٔ آن تنها با خودِ $k$ انجام می‌شود)."
   ]
  }
 ],
 "metadata": {},
 "nbformat": 4,
 "nbformat_minor": 5
}
