{
 "cells": [
  {
   "cell_type": "markdown",
   "id": "e714a67c",
   "metadata": {},
   "source": [
    "# تغییرناپذیری ابرصفحه‌ی بیشینه‌حاشیه نسبت به ثابت کران γ>0\n",
    "\n",
    "**تمرین 7.2 (Bishop, PRML):** نشان دهید اگر عدد 1 در سمت راست قیدِ مسئله‌ی بیشینه‌حاشیه با یک ثابت دلخواه γ>0 جایگزین شود، **راه‌حل ابرصفحه‌ی بیشینه‌حاشیه تغییر نمی‌کند**.\n",
    "\n",
    "---\n"
   ]
  },
  {
   "cell_type": "markdown",
   "id": "69ff3410",
   "metadata": {},
   "source": [
    "## ۱) صورت‌بندی استاندارد بیشینه‌حاشیه (خطی و جداشدنی)\n",
    "\n",
    "در حالت جداشدنی، تابع هدف کمینه‌سازی نرمِ وزن‌ها است و قیود، کران تابعیِ حاشیه را برابر با 1 نگه می‌دارند.\n"
   ]
  },
  {
   "cell_type": "markdown",
   "id": "8411725c",
   "metadata": {},
   "source": [
    "\n",
    "$$\n",
    "\\min_{w, b}\\ \\tfrac{1}{2}\\,\\|w\\|^2\n",
    "$$\n",
    "\n",
    "$$\n",
    "\\text{s.t.}\\quad y_i\\,(w^T x_i + b)\\ \\ge\\ 1,\\quad i=1,\\dots,N\n",
    "$$\n"
   ]
  },
  {
   "cell_type": "markdown",
   "id": "ac98fde8",
   "metadata": {},
   "source": [
    "این نُرم معکوسِ مربعِ حاشیه را کمینه می‌کند و مقدار «۱» صرفاً یک قرارداد نرمال‌سازی برای مقیاس تابعیِ حاشیه است.\n"
   ]
  },
  {
   "cell_type": "markdown",
   "id": "3ae9858b",
   "metadata": {},
   "source": [
    "## ۲) صورت‌بندی تغییریافته با کران γ>0\n",
    "\n",
    "اکنون مقدار 1 در قیدها را با γ>0 جایگزین می‌کنیم.\n"
   ]
  },
  {
   "cell_type": "markdown",
   "id": "7859f633",
   "metadata": {},
   "source": [
    "\n",
    "$$\n",
    "\\min_{w, b}\\ \\tfrac{1}{2}\\,\\|w\\|^2\n",
    "$$\n",
    "\n",
    "$$\n",
    "\\text{s.t.}\\quad y_i\\,(w^T x_i + b)\\ \\ge\\ \\gamma,\\quad i=1,\\dots,N,\\ \\ \\gamma>0\n",
    "$$\n"
   ]
  },
  {
   "cell_type": "markdown",
   "id": "68a7570d",
   "metadata": {},
   "source": [
    "## ۳) برهان با بازمقیاس‌سازی پارامترها\n",
    "\n",
    "ایده این است که نشان دهیم می‌توان با یک بازتعریف ساده‌ی پارامترها، مسئله‌ی تغییریافته را به شکل استاندارد برگرداند.\n"
   ]
  },
  {
   "cell_type": "markdown",
   "id": "08dac668",
   "metadata": {},
   "source": [
    "\n",
    "$$\n",
    "\\tilde{w} = \\tfrac{w}{\\gamma},\\qquad \\tilde{b} = \\tfrac{b}{\\gamma}\n",
    "$$\n"
   ]
  },
  {
   "cell_type": "markdown",
   "id": "1f25e8a9",
   "metadata": {},
   "source": [
    "ابتدا تابع هدف را در متغیرهای جدید بازنویسی می‌کنیم.\n"
   ]
  },
  {
   "cell_type": "markdown",
   "id": "9d149cd3",
   "metadata": {},
   "source": [
    "\n",
    "$$\n",
    "\\tfrac{1}{2}\\,\\|w\\|^2 = \\tfrac{1}{2}\\,\\|\\gamma\\,\\tilde{w}\\|^2 = \\tfrac{\\gamma^2}{2}\\,\\|\\tilde{w}\\|^2\n",
    "$$\n"
   ]
  },
  {
   "cell_type": "markdown",
   "id": "299bba71",
   "metadata": {},
   "source": [
    "اکنون قیدها را نیز بازنویسی می‌کنیم.\n"
   ]
  },
  {
   "cell_type": "markdown",
   "id": "d0c05a79",
   "metadata": {},
   "source": [
    "\n",
    "$$\n",
    "y_i((\\gamma\\tilde{w})^T x_i + \\gamma\\tilde{b}) \\ge \\gamma\n",
    "\\quad\\Longrightarrow\\quad\n",
    "y_i(\\tilde{w}^T x_i + \\tilde{b}) \\ge 1\n",
    "$$\n"
   ]
  },
  {
   "cell_type": "markdown",
   "id": "da7ff30b",
   "metadata": {},
   "source": [
    "در نتیجه، در متغیرهای (w~, b~) دقیقاً به همان صورت‌بندی استاندارد با کران 1 می‌رسیم؛ تنها تفاوت یک ضریب ثابت γ^2 در تابع هدف است که اثری بر **نقطه‌ی بهینه** ندارد.\n"
   ]
  },
  {
   "cell_type": "markdown",
   "id": "11c28893",
   "metadata": {},
   "source": [
    "## ۴) نتیجه‌گیری و ناوردا بودن مرز تصمیم\n",
    "\n",
    "راه‌حل استاندارد را با (w_std, b_std) نشان می‌دهیم. در دستگاه جدید خواهیم داشت:\n"
   ]
  },
  {
   "cell_type": "markdown",
   "id": "da3b67dd",
   "metadata": {},
   "source": [
    "\n",
    "$$\n",
    "\\tilde{w}^* = w_{std},\\qquad\n",
    "\\tilde{b}^* = b_{std}\n",
    "$$\n",
    "\n",
    "$$\n",
    "w^* = \\gamma\\,\\tilde{w}^* = \\gamma\\,w_{std},\\qquad\n",
    "b^* = \\gamma\\,\\tilde{b}^* = \\gamma\\,b_{std}\n",
    "$$\n"
   ]
  },
  {
   "cell_type": "markdown",
   "id": "67d53e8f",
   "metadata": {},
   "source": [
    "مرز تصمیم با مجموعه‌ی نقاطی تعریف می‌شود که مقدار تابع تفکیک‌گر روی آن‌ها صفر است.\n"
   ]
  },
  {
   "cell_type": "markdown",
   "id": "4f2cc7da",
   "metadata": {},
   "source": [
    "\n",
    "$$\n",
    "(w^*)^T x + b^* = 0\n",
    "\\quad\\Longleftrightarrow\\quad\n",
    "(\\gamma w_{std})^T x + \\gamma b_{std} = 0\n",
    "\\quad\\Longleftrightarrow\\quad\n",
    "w_{std}^T x + b_{std} = 0\n",
    "$$\n"
   ]
  },
  {
   "cell_type": "markdown",
   "id": "1b89d785",
   "metadata": {},
   "source": [
    "بنابراین، **مکان هندسی ابرصفحه‌یِ تفکیک‌گر تغییر نمی‌کند** و تنها مقیاس پارامترها تغییر می‌یابد. ازاین‌رو انتخاب 1 در قید صرفاً یک نرمال‌سازی قراردادی است و جایگزینی آن با γ>0 راه‌حل هندسی را تغییر نمی‌دهد.\n"
   ]
  }
 ],
 "metadata": {},
 "nbformat": 4,
 "nbformat_minor": 5
}
