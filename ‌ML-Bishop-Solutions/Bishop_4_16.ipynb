{
 "cells": [
  {
   "cell_type": "markdown",
   "id": "2bf67e17",
   "metadata": {},
   "source": [
    "# حل تمرین 4.16 — برچسب‌های احتمالی (Soft Labels) در طبقه‌بندی دودویی"
   ]
  },
  {
   "cell_type": "markdown",
   "id": "3cc9efca",
   "metadata": {},
   "source": [
    "**صورت مسئله**  \n",
    "برای هر مشاهده‌ی $x_n$ به‌جای برچسب قطعی $t_n\\in\\{0,1\\}$، مقدار $\\pi_n\\in[0,1]$ داده شده است که بیانگر $\\mathbb{P}(t_n=1)$ است.  \n",
    "با داشتن مدل احتمالی  \n",
    "\n",
    "$y_n = p(t=1\\mid\\phi_n)$  \n",
    "\n",
    "تابع **لاگ‌درستنمایی** مناسب این داده‌ها را به‌دست آورید."
   ]
  },
  {
   "cell_type": "markdown",
   "id": "188c67da",
   "metadata": {},
   "source": [
    "## گام ۱: مدل برنولی برای یک مشاهده  \n",
    "برای هر $n$، متغیر برچسب $t_n$ برنولی با پارامتر $y_n$ درنظر گرفته می‌شود:  \n",
    "\n",
    "$p(t_n\\mid\\phi_n) = y_n^{t_n}(1-y_n)^{(1-t_n)}$  \n",
    "\n",
    "که در آن $y_n = p(t_n=1\\mid\\phi_n)$."
   ]
  },
  {
   "cell_type": "markdown",
   "id": "0970afb7",
   "metadata": {},
   "source": [
    "## گام ۲: برچسب نرم و لاگ‌درستنمایی برای یک نمونه  \n",
    "به‌جای مشاهده‌ی $t_n$، مقدار $\\pi_n = \\mathbb{P}(t_n=1)$ در اختیار است.  \n",
    "لاگ‌درستنمایی مناسب برای یک نمونه به‌صورت امیدریاضی لاگ‌درستنمایی برنولی نسبت به توزیع $\\text{Bernoulli}(\\pi_n)$ روی $t_n$ نوشته می‌شود:  \n",
    "\n",
    "$\\ell_n(y_n;\\pi_n) = \\mathbb{E}_{t_n\\sim\\text{Bernoulli}(\\pi_n)}[\\log p(t_n\\mid\\phi_n)]$  \n",
    "\n",
    "از رابطه‌ی  \n",
    "\n",
    "$\\log p(t_n\\mid\\phi_n) = t_n\\log y_n + (1-t_n)\\log(1-y_n)$  \n",
    "\n",
    "و ویژگی‌های $\\mathbb{E}[t_n]=\\pi_n$ و $\\mathbb{E}[1-t_n]=1-\\pi_n$ نتیجه می‌گیریم:  \n",
    "\n",
    "$\\ell_n(y_n;\\pi_n) = \\pi_n\\log y_n + (1-\\pi_n)\\log(1-y_n)$"
   ]
  },
  {
   "cell_type": "markdown",
   "id": "81d6aed3",
   "metadata": {},
   "source": [
    "## گام ۳: کل داده‌ها (استقلال مشاهدات)  \n",
    "با فرض استقلال مشاهدات:  \n",
    "\n",
    "$\\log\\mathcal{L} = \\sum_{n=1}^{N} \\ell_n(y_n;\\pi_n)$  \n",
    "\n",
    "در نتیجه:  \n",
    "\n",
    "$\\log\\mathcal{L} = \\sum_{n=1}^{N} [\\pi_n\\log y_n + (1-\\pi_n)\\log(1-y_n)]$"
   ]
  },
  {
   "cell_type": "markdown",
   "id": "c2381bfa",
   "metadata": {},
   "source": [
    "## گام ۴: شکل غیرلاگ (درستنمایی)  \n",
    "به‌طور هم‌ارز، درستنمایی کل برابر است با:  \n",
    "\n",
    "$\\mathcal{L} = \\prod_{n=1}^{N} y_n^{\\pi_n}(1-y_n)^{(1-\\pi_n)}$"
   ]
  },
  {
   "cell_type": "markdown",
   "id": "7ac5ef57",
   "metadata": {},
   "source": [
    "## پاسخ نهایی  \n",
    "$\\log\\mathcal{L} = \\sum_{n=1}^{N} [\\pi_n\\log y_n + (1-\\pi_n)\\log(1-y_n)]$"
   ]
  }
 ],
 "metadata": {},
 "nbformat": 4,
 "nbformat_minor": 5
}
