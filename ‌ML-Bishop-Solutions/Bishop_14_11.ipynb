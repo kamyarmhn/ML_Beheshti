{
 "cells": [
  {
   "cell_type": "markdown",
   "id": "8118c809",
   "metadata": {},
   "source": [
    "# حل تمرین 14.11 — درخت‌های تصمیم A و B"
   ]
  },
  {
   "cell_type": "markdown",
   "id": "6541e91a",
   "metadata": {},
   "source": [
    "\n",
    "مسئله: مجموعه‌داده شامل **۸۰۰** نمونه است (۴۰۰ از کلاس $C_1$ و ۴۰۰ از کلاس $C_2$).  \n",
    "دو مدل درخت تصمیم به این صورت تقسیم می‌کنند:\n",
    "- **درخت A:** برگ ۱ → (۳۰۰، ۱۰۰) ، برگ ۲ → (۱۰۰، ۳۰۰)  \n",
    "- **درخت B:** برگ ۱ → (۲۰۰، ۴۰۰) ، برگ ۲ → (۲۰۰، ۰)\n"
   ]
  },
  {
   "cell_type": "markdown",
   "id": "f81f203b",
   "metadata": {},
   "source": [
    "## نرخ طبقه‌بندی اشتباه (Misclassification Rate)"
   ]
  },
  {
   "cell_type": "markdown",
   "id": "8bf9821b",
   "metadata": {},
   "source": [
    "ایده: در هر برگ برچسب کلاس اکثریت داده می‌شود و تعداد اقلیت، به‌عنوان موارد خطا شمرده می‌شود."
   ]
  },
  {
   "cell_type": "markdown",
   "id": "1e474375",
   "metadata": {},
   "source": [
    "**درخت A — برگ ۱:** (۳۰۰، ۱۰۰) → کلاس اکثریت $C_1$ است؛ خطا ۱۰۰ نمونه.\n",
    "\n",
    "$$ err_1 = 100 $$"
   ]
  },
  {
   "cell_type": "markdown",
   "id": "77646353",
   "metadata": {},
   "source": [
    "**درخت A — برگ ۲:** (۱۰۰، ۳۰۰) → کلاس اکثریت $C_2$ است؛ خطا ۱۰۰ نمونه.\n",
    "\n",
    "$$ err_2 = 100 $$"
   ]
  },
  {
   "cell_type": "markdown",
   "id": "68886c99",
   "metadata": {},
   "source": [
    "**خطای کل درخت A:**\n",
    "\n",
    "$$ Err(A) = 100 + 100 = 200, \\quad Rate(A) = 200/800 = 0.25 $$"
   ]
  },
  {
   "cell_type": "markdown",
   "id": "33b0537b",
   "metadata": {},
   "source": [
    "**درخت B — برگ ۱:** (۲۰۰، ۴۰۰) → کلاس اکثریت $C_2$ است؛ خطا ۲۰۰ نمونه.\n",
    "\n",
    "$$ err_1 = 200 $$"
   ]
  },
  {
   "cell_type": "markdown",
   "id": "4d14896e",
   "metadata": {},
   "source": [
    "**درخت B — برگ ۲:** (۲۰۰، ۰) → کلاس اکثریت $C_1$ است؛ خطا ۰ نمونه.\n",
    "\n",
    "$$ err_2 = 0 $$"
   ]
  },
  {
   "cell_type": "markdown",
   "id": "4dfd1844",
   "metadata": {},
   "source": [
    "**خطای کل درخت B:**\n",
    "\n",
    "$$ Err(B) = 200, \\quad Rate(B) = 200/800 = 0.25 $$"
   ]
  },
  {
   "cell_type": "markdown",
   "id": "0a2ad742",
   "metadata": {},
   "source": [
    "**نتیجه:** نرخ خطای هر دو درخت برابر است.\n",
    "\n",
    "$$ Rate(A) = Rate(B) = 0.25 $$"
   ]
  },
  {
   "cell_type": "markdown",
   "id": "8609de57",
   "metadata": {},
   "source": [
    "## آنتروپی متقاطع (Cross-Entropy)"
   ]
  },
  {
   "cell_type": "markdown",
   "id": "96040356",
   "metadata": {},
   "source": [
    "فرمول آنتروپی گره:\n",
    "\n",
    "$$ H(p) = - \\sum_k p_k \\log_2 p_k $$"
   ]
  },
  {
   "cell_type": "markdown",
   "id": "128a532e",
   "metadata": {},
   "source": [
    "**درخت A — برگ ۱:**\n",
    "\n",
    "$$ H_1 = -(0.75\\log_2 0.75 + 0.25\\log_2 0.25) \\approx 0.811 $$"
   ]
  },
  {
   "cell_type": "markdown",
   "id": "9417e675",
   "metadata": {},
   "source": [
    "**درخت A — برگ ۲:**\n",
    "\n",
    "$$ H_2 = 0.811 $$"
   ]
  },
  {
   "cell_type": "markdown",
   "id": "d3cf6681",
   "metadata": {},
   "source": [
    "**کل درخت A:**\n",
    "\n",
    "$$ H(A) = 0.811 $$"
   ]
  },
  {
   "cell_type": "markdown",
   "id": "ad8fecf3",
   "metadata": {},
   "source": [
    "**درخت B — برگ ۱:**\n",
    "\n",
    "$$ H_1 = -(1/3\\log_2(1/3) + 2/3\\log_2(2/3)) \\approx 0.918 $$"
   ]
  },
  {
   "cell_type": "markdown",
   "id": "19245c69",
   "metadata": {},
   "source": [
    "**درخت B — برگ ۲:** خالص → $$ H_2 = 0 $$"
   ]
  },
  {
   "cell_type": "markdown",
   "id": "5f1b7660",
   "metadata": {},
   "source": [
    "**کل درخت B:**\n",
    "\n",
    "$$ H(B) = 0.75(0.918) + 0.25(0) = 0.689 $$"
   ]
  },
  {
   "cell_type": "markdown",
   "id": "5366422e",
   "metadata": {},
   "source": [
    "**نتیجه:**\n",
    "\n",
    "$$ H(B) < H(A) $$"
   ]
  },
  {
   "cell_type": "markdown",
   "id": "fd30dea5",
   "metadata": {},
   "source": [
    "## شاخص جینی (Gini Index)"
   ]
  },
  {
   "cell_type": "markdown",
   "id": "741831a3",
   "metadata": {},
   "source": [
    "فرمول:\n",
    "\n",
    "$$ G(p) = 1 - \\sum_k p_k^2 $$"
   ]
  },
  {
   "cell_type": "markdown",
   "id": "38317d65",
   "metadata": {},
   "source": [
    "**درخت A — برگ‌ها:**\n",
    "\n",
    "$$ G_1 = G_2 = 0.375 $$"
   ]
  },
  {
   "cell_type": "markdown",
   "id": "da0130f1",
   "metadata": {},
   "source": [
    "**کل درخت A:**\n",
    "\n",
    "$$ G(A) = 0.375 $$"
   ]
  },
  {
   "cell_type": "markdown",
   "id": "75ee7be7",
   "metadata": {},
   "source": [
    "**درخت B — برگ ۱:**\n",
    "\n",
    "$$ G_1 = 4/9 \\approx 0.444 $$"
   ]
  },
  {
   "cell_type": "markdown",
   "id": "f67dfd2f",
   "metadata": {},
   "source": [
    "**درخت B — برگ ۲:** خالص → $$ G_2 = 0 $$"
   ]
  },
  {
   "cell_type": "markdown",
   "id": "eb493043",
   "metadata": {},
   "source": [
    "**کل درخت B:**\n",
    "\n",
    "$$ G(B) = 1/3 \\approx 0.333 $$"
   ]
  },
  {
   "cell_type": "markdown",
   "id": "98cb9d77",
   "metadata": {},
   "source": [
    "### جمع‌بندی نهایی\n",
    "- نرخ خطا: $$0.25$$ (هر دو درخت)\n",
    "- آنتروپی: $$H(B) < H(A)$$\n",
    "- جینی: $$G(B) < G(A)$$"
   ]
  }
 ],
 "metadata": {},
 "nbformat": 4,
 "nbformat_minor": 5
}
