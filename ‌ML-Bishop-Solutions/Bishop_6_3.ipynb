{
 "cells": [
  {
   "cell_type": "markdown",
   "id": "bf6ed2ed",
   "metadata": {},
   "source": [
    "# حل تمرین 6.3 — دسته‌بند نزدیک‌ترین همسایه کرنلی (Kernel Nearest-Neighbour)"
   ]
  },
  {
   "cell_type": "markdown",
   "id": "66a8940d",
   "metadata": {},
   "source": [
    "**صورت مسئله**  \n",
    "برای یک ورودی جدید $\\mathbf{x}$، دسته‌بند نزدیک‌ترین همسایه کلاس آن را مطابق نزدیک‌ترین نمونهٔ آموزشی $\\mathbf{x}_n$ (بر حسب فاصلهٔ اقلیدسی) تعیین می‌کند. خواسته شده قانون تصمیم را بر حسب ضرب داخلی بازنویسی کنیم و سپس با جایگزینی کرنل، نسخهٔ غیرخطی را بنویسیم."
   ]
  },
  {
   "cell_type": "markdown",
   "id": "133f9812",
   "metadata": {},
   "source": [
    "## گام ۱: بازنویسی فاصله بر حسب ضرب داخلی  \n",
    "$\\|\\mathbf{x}-\\mathbf{x}_n\\|^2= (\\mathbf{x}-\\mathbf{x}_n)^\\top(\\mathbf{x}-\\mathbf{x}_n) = \\mathbf{x}^\\top\\mathbf{x} - 2\\,\\mathbf{x}^\\top\\mathbf{x}_n + \\mathbf{x}_n^\\top\\mathbf{x}_n$"
   ]
  },
  {
   "cell_type": "markdown",
   "id": "3ad2624e",
   "metadata": {},
   "source": [
    "## گام ۲: رفتن به فضای ویژگی و ترفند کرنل  \n",
    "در فضای ویژگی با نگاشت $\\phi(\\cdot)$:  \n",
    "\n",
    "$\\|\\phi(\\mathbf{x})-\\phi(\\mathbf{x}_n)\\|^2 = \\phi(\\mathbf{x})^\\top\\phi(\\mathbf{x}) - 2\\,\\phi(\\mathbf{x})^\\top\\phi(\\mathbf{x}_n) + \\phi(\\mathbf{x}_n)^\\top\\phi(\\mathbf{x}_n)$  \n",
    "\n",
    "با تعریف کرنل $k(\\mathbf{x},\\mathbf{x}')=\\phi(\\mathbf{x})^\\top\\phi(\\mathbf{x}')$ می‌نویسیم:  \n",
    "\n",
    "$\\|\\phi(\\mathbf{x})-\\phi(\\mathbf{x}_n)\\|^2 = k(\\mathbf{x},\\mathbf{x}) - 2\\,k(\\mathbf{x},\\mathbf{x}_n) + k(\\mathbf{x}_n,\\mathbf{x}_n)$"
   ]
  },
  {
   "cell_type": "markdown",
   "id": "ecce8091",
   "metadata": {},
   "source": [
    "## گام ۳: قانون نهایی نزدیک‌ترین همسایهٔ کرنلی  \n",
    "برای $\\mathbf{x}$ ثابت، جملهٔ $k(\\mathbf{x},\\mathbf{x})$ در کمینه‌سازی بی‌تأثیر است. بنابراین:  \n",
    "\n",
    "$\\boxed{\\;n^* = \\arg\\min_n\\,\\{\\,k(\\mathbf{x}_n,\\mathbf{x}_n) - 2\\,k(\\mathbf{x},\\mathbf{x}_n)\\,\\}\\;}$"
   ]
  },
  {
   "cell_type": "markdown",
   "id": "4e86ed95",
   "metadata": {},
   "source": [
    "**یادداشت:** اگر کرنل RBF باشد، $k(\\mathbf{x}_n,\\mathbf{x}_n)=1$ برای همهٔ $n$ و آنگاه:  \n",
    "\n",
    "$n^* = \\arg\\max_n\\, k(\\mathbf{x},\\mathbf{x}_n)$"
   ]
  }
 ],
 "metadata": {},
 "nbformat": 4,
 "nbformat_minor": 5
}
