{
 "cells": [
  {
   "cell_type": "markdown",
   "id": "d3a1448e",
   "metadata": {},
   "source": [
    "# حل تمرین 4.14: رگرسیون لجستیک برای داده‌های جدایی‌پذیر خطی"
   ]
  },
  {
   "cell_type": "markdown",
   "id": "2c8e3d34",
   "metadata": {},
   "source": [
    "\n",
    "**هدف مسئله:**  \n",
    "در این تمرین می‌خواهیم ثابت کنیم که اگر مجموعه داده **جدایی‌پذیر خطی** باشد، جواب **بیشینه‌سازی درستنمایی** در رگرسیون لجستیک به حالتی منجر می‌شود که اندازه‌ی بردار وزن‌ها ($\\mathbf{w}$) به سمت بی‌نهایت میل کند.\n",
    "\n",
    "---\n",
    "\n",
    "## مفاهیم اولیه\n",
    "\n",
    "1. **مدل رگرسیون لجستیک:**\n",
    "$$\n",
    "p(t=1|\\phi) = y(\\phi) = \\sigma(\\mathbf{w}^T \\phi) = \\frac{1}{1 + e^{-\\mathbf{w}^T \\phi}}\n",
    "$$\n",
    "\n",
    "2. **تابع لاگ-درستنمایی:**\n",
    "$$\n",
    "\\ln p(\\mathbf{t}|\\mathbf{w}) = \\sum_{n=1}^N \\{ t_n \\ln y_n + (1-t_n) \\ln(1-y_n) \\}\n",
    "$$\n",
    "که در آن $t_n$ برچسب واقعی (0 یا 1) و $y_n$ خروجی مدل برای نمونه‌ی $n$ام است.\n",
    "\n",
    "3. **داده‌های جدایی‌پذیر خطی:**  \n",
    "یک بردار $\\mathbf{w}^*$ وجود دارد که تمام داده‌ها را جدا می‌کند:\n",
    "$$\n",
    "\\mathbf{w}^{*T} \\phi_n > 0 \\quad (t_n=1), \\quad \\mathbf{w}^{*T} \\phi_n < 0 \\quad (t_n=0)\n",
    "$$\n"
   ]
  },
  {
   "cell_type": "markdown",
   "id": "a2803636",
   "metadata": {},
   "source": [
    "\n",
    "## گام اول: تحلیل لاگ-درستنمایی\n",
    "\n",
    "- اگر $t_n = 1$ باشد:\n",
    "$$\n",
    "t_n \\ln y_n = \\ln y_n \\quad \\Rightarrow \\quad y_n \\to 1\n",
    "$$\n",
    "\n",
    "- اگر $t_n = 0$ باشد:\n",
    "$$\n",
    "(1-t_n) \\ln (1-y_n) = \\ln (1-y_n) \\quad \\Rightarrow \\quad y_n \\to 0\n",
    "$$\n",
    "\n",
    "برای بیشینه کردن درستنمایی:  \n",
    "نمونه‌های کلاس ۱ باید $y_n \\approx 1$ و کلاس ۰ باید $y_n \\approx 0$ داشته باشند.\n"
   ]
  },
  {
   "cell_type": "markdown",
   "id": "33c90724",
   "metadata": {},
   "source": [
    "\n",
    "## گام دوم: ارتباط با تابع سیگموید\n",
    "\n",
    "تابع سیگموید:\n",
    "$$\n",
    "y_n = \\sigma(\\mathbf{w}^T \\phi_n)\n",
    "$$\n",
    "\n",
    "- برای $y_n \\to 1$:  \n",
    "$$\n",
    "\\mathbf{w}^T \\phi_n \\to +\\infty\n",
    "$$\n",
    "\n",
    "- برای $y_n \\to 0$:  \n",
    "$$\n",
    "\\mathbf{w}^T \\phi_n \\to -\\infty\n",
    "$$\n"
   ]
  },
  {
   "cell_type": "markdown",
   "id": "2f1e0b14",
   "metadata": {},
   "source": [
    "\n",
    "## گام سوم: استفاده از جدایی‌پذیری خطی\n",
    "\n",
    "چون داده‌ها جدایی‌پذیر هستند، یک $\\mathbf{w}^*$ وجود دارد که:\n",
    "$$\n",
    "\\mathbf{w}^{*T} \\phi_n > 0 \\quad (t_n=1), \\quad \\mathbf{w}^{*T} \\phi_n < 0 \\quad (t_n=0)\n",
    "$$\n",
    "\n",
    "بردار وزن جدید:\n",
    "$$\n",
    "\\mathbf{w} = \\alpha \\mathbf{w}^*, \\quad \\alpha > 0\n",
    "$$\n",
    "\n",
    "ورودی سیگموید:\n",
    "$$\n",
    "\\mathbf{w}^T \\phi_n = \\alpha (\\mathbf{w}^{*T} \\phi_n)\n",
    "$$\n"
   ]
  },
  {
   "cell_type": "markdown",
   "id": "6bc50bf4",
   "metadata": {},
   "source": [
    "\n",
    "## گام چهارم: نتیجه‌گیری\n",
    "\n",
    "- اگر $t_n=1$: $(\\mathbf{w}^{*T} \\phi_n) > 0$ و با $\\alpha \\to \\infty$، ورودی سیگموید $\\to +\\infty$ و $y_n \\to 1$.  \n",
    "- اگر $t_n=0$: $(\\mathbf{w}^{*T} \\phi_n) < 0$ و با $\\alpha \\to \\infty$، ورودی سیگموید $\\to -\\infty$ و $y_n \\to 0$.  \n",
    "\n",
    "پس:\n",
    "$$\n",
    "||\\mathbf{w}|| = ||\\alpha \\mathbf{w}^*|| = \\alpha ||\\mathbf{w}^*|| \\xrightarrow[\\alpha \\to \\infty]{} \\infty\n",
    "$$\n",
    "\n",
    "**نتیجه:** برای داده‌های جدایی‌پذیر خطی، جواب بیشینه‌سازی درستنمایی منجر به $||\\mathbf{w}|| \\to \\infty$ می‌شود.\n"
   ]
  }
 ],
 "metadata": {},
 "nbformat": 4,
 "nbformat_minor": 5
}
