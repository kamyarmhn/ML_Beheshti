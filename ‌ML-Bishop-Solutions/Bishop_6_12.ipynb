{
 "cells": [
  {
   "cell_type": "markdown",
   "id": "1fa8fb6f",
   "metadata": {},
   "source": [
    "# تمرین 6.12 — کرنل زیرمجموعه‌ها و فضای ویژگی با بُعد $2^{|D|}$ (سبک Bishop)\n",
    "\n",
    "**صورت مسئله**  \n",
    "فضای تمام زیرمجموعه‌های ممکن $A$ از یک مجموعهٔ ثابت $D$ را در نظر بگیرید.  \n",
    "نشان دهید کرنل (6.27) با نگاشت ویژگیِ $\\phi(A)$ که با زیرمجموعه‌ها $U \\subseteq D$ اندیس‌گذاری می‌شود و مؤلفهٔ آن به‌صورت زیر است، معادل یک ضرب داخلی است و بُعد فضا $2^{|D|}$ می‌باشد:\n",
    "\n",
    "$$\n",
    "\\phi_U(A)=1 \\ \\ \text{اگر}\\ \\ U\\subseteq A,\\qquad\n",
    "\\phi_U(A)=0 \\ \\ \text{در غیر این صورت.}\n",
    "$$\n"
   ]
  },
  {
   "cell_type": "markdown",
   "id": "db8b8439",
   "metadata": {},
   "source": [
    "## گام ۱: تعریف ضرب داخلی در فضای ویژگی\n",
    "\n",
    "ضرب داخلی بین $\\phi(A)$ و $\\phi(B)$ به صورت جمع بر روی تمام زیرمجموعه‌های $U \\subseteq D$ تعریف می‌شود:\n"
   ]
  },
  {
   "cell_type": "markdown",
   "id": "b771df5a",
   "metadata": {},
   "source": [
    "\n",
    "$$\n",
    "\\langle \\phi(A), \\phi(B)\\rangle \\;=\\; \\sum_{U\\subseteq D}\\; \\phi_U(A)\\,\\phi_U(B).\n",
    "$$\n"
   ]
  },
  {
   "cell_type": "markdown",
   "id": "e1198763",
   "metadata": {},
   "source": [
    "## گام ۲: شرط ناپدیدنشدن جمله‌ها\n",
    "\n",
    "برای هر $U \\subseteq D$ داریم:\n"
   ]
  },
  {
   "cell_type": "markdown",
   "id": "63c6e93c",
   "metadata": {},
   "source": [
    "\n",
    "$$\n",
    "\\phi_U(A)\\,\\phi_U(B)=1\n",
    "\\ \\Longleftrightarrow\\\n",
    "\\big(U\\subseteq A\\big)\\land\\big(U\\subseteq B\\big)\n",
    "\\ \\Longleftrightarrow\\\n",
    "U\\subseteq (A\\cap B).\n",
    "$$\n"
   ]
  },
  {
   "cell_type": "markdown",
   "id": "ee0fe1ee",
   "metadata": {},
   "source": [
    "## گام ۳: فروکاست به شمارش زیرمجموعه‌ها\n",
    "\n",
    "پس جمع فقط روی زیرمجموعه‌های $A\\cap B$ باقی می‌ماند و هر جمله برابر ۱ است:\n"
   ]
  },
  {
   "cell_type": "markdown",
   "id": "dbb1455a",
   "metadata": {},
   "source": [
    "\n",
    "$$\n",
    "\\langle \\phi(A), \\phi(B)\\rangle\n",
    "\\;=\\;\n",
    "\\sum_{U\\subseteq (A\\cap B)} 1\n",
    "\\;=\\;\n",
    "2^{\\,|A\\cap B|}.\n",
    "$$\n"
   ]
  },
  {
   "cell_type": "markdown",
   "id": "20f7fea8",
   "metadata": {},
   "source": [
    "## نتیجهٔ نهایی و بُعد فضا\n",
    "\n",
    "در نتیجه کرنل برابر است با:\n"
   ]
  },
  {
   "cell_type": "markdown",
   "id": "ccc854f6",
   "metadata": {},
   "source": [
    "\n",
    "$$\n",
    "k(A,B)=2^{\\,|A\\cap B|}.\n",
    "$$\n"
   ]
  },
  {
   "cell_type": "markdown",
   "id": "4bef7ee8",
   "metadata": {},
   "source": [
    "و چون $\\phi$ با تمام زیرمجموعه‌های $D$ اندیس‌گذاری می‌شود، تعداد مؤلفه‌ها برابر تعداد زیرمجموعه‌هاست:\n"
   ]
  },
  {
   "cell_type": "markdown",
   "id": "00733771",
   "metadata": {},
   "source": [
    "\n",
    "$$\n",
    "\\dim(\\mathcal{H}) \\;=\\; 2^{\\,|D|}.\n",
    "$$\n"
   ]
  }
 ],
 "metadata": {},
 "nbformat": 4,
 "nbformat_minor": 5
}
