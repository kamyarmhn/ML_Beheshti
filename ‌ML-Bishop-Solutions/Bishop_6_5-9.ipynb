{
 "cells": [
  {
   "cell_type": "markdown",
   "id": "56050d14",
   "metadata": {},
   "source": [
    "# حل تمرین‌های ۶.۵ تا ۶.۹ — ساخت کرنل‌های معتبر (سبک Bishop)"
   ]
  },
  {
   "cell_type": "markdown",
   "id": "e30d6979",
   "metadata": {},
   "source": [
    "برای هر مجموعه‌ی دلخواه از نقاط آموزشی، یک کرنل معتبر باید ماتریس گرمِ نیمه‌معینِ مثبت بسازد. \n",
    "برای هر بردار غیرصفر $z$ داریم $z^\\top K z \\ge 0$.\n",
    "در ادامه قواعد (۶.۱۳) تا (۶.۲۲) را بررسی می‌کنیم."
   ]
  },
  {
   "cell_type": "markdown",
   "id": "57a66f79",
   "metadata": {},
   "source": [
    "## ۶.۵ — قواعد (۶.۱۳) و (۶.۱۴)"
   ]
  },
  {
   "cell_type": "markdown",
   "id": "26796505",
   "metadata": {},
   "source": [
    "**(۶.۱۳)**  \n",
    "$k(\\mathbf{x},\\mathbf{x}') = c\\,k_1(\\mathbf{x},\\mathbf{x}')$ با $c>0$  \n",
    "\n",
    "برای هر $z$:  \n",
    "$z^\\top K z = z^\\top (cK_1) z = c\\,(z^\\top K_1 z) \\ge 0$  \n",
    "پس معتبر است."
   ]
  },
  {
   "cell_type": "markdown",
   "id": "40fdf109",
   "metadata": {},
   "source": [
    "**(۶.۱۴)**  \n",
    "$k(\\mathbf{x},\\mathbf{x}') = f(\\mathbf{x})\\,k_1(\\mathbf{x},\\mathbf{x}')\\,f(\\mathbf{x}')$  \n",
    "\n",
    "برای هر $z$ بگذارید $y_n = f(x_n)z_n$. آنگاه:  \n",
    "$z^\\top K z = \\sum_{n,m} z_n f(x_n) (K_1)_{nm} f(x_m) z_m = y^\\top K_1 y \\ge 0$  \n",
    "پس معتبر است."
   ]
  },
  {
   "cell_type": "markdown",
   "id": "26ec4325",
   "metadata": {},
   "source": [
    "## ۶.۶ — قواعد (۶.۱۵) و (۶.۱۶)"
   ]
  },
  {
   "cell_type": "markdown",
   "id": "5c86cd91",
   "metadata": {},
   "source": [
    "**(۶.۱۵)**  \n",
    "$k(\\mathbf{x},\\mathbf{x}') = q\\big(k_1(\\mathbf{x},\\mathbf{x}')\\big)$، که $q(z)=\\sum_{i=0}^d a_i z^i$ و $a_i\\ge 0$  \n",
    "\n",
    "با بستن نسبت به ضرب و جمع و ضرب در ثابت مثبت:  \n",
    "$k = \\sum_{i=0}^d a_i\\,(k_1)^i$ یک کرنل معتبر است.  \n",
    "(جملات $a_i(k_1)^i$ معتبرند و مجموع‌شان نیز معتبر است.)"
   ]
  },
  {
   "cell_type": "markdown",
   "id": "2b36b5fb",
   "metadata": {},
   "source": [
    "**(۶.۱۶)**  \n",
    "$k(\\mathbf{x},\\mathbf{x}') = \\exp\\big(k_1(\\mathbf{x},\\mathbf{x}')\\big)$  \n",
    "\n",
    "بسط نمایی:  \n",
    "$\\exp(z) = \\sum_{i=0}^{\\infty} \\tfrac{1}{i!}\\,z^i$  \n",
    "پس:  \n",
    "$k = \\sum_{i=0}^{\\infty} \\tfrac{1}{i!}\\,(k_1)^i$  \n",
    "ضرایب همگی نامنفی‌اند، بنابراین (به‌واسطه‌ی ۶.۱۵) کرنل معتبر است."
   ]
  },
  {
   "cell_type": "markdown",
   "id": "83136771",
   "metadata": {},
   "source": [
    "## ۶.۷ — قواعد (۶.۱۷) و (۶.۱۸)"
   ]
  },
  {
   "cell_type": "markdown",
   "id": "2f1c03c2",
   "metadata": {},
   "source": [
    "**(۶.۱۷)**  \n",
    "$k(\\mathbf{x},\\mathbf{x}') = k_1(\\mathbf{x},\\mathbf{x}') + k_2(\\mathbf{x},\\mathbf{x}')$  \n",
    "\n",
    "برای هر $z$:  \n",
    "$z^\\top K z = z^\\top (K_1+K_2) z = z^\\top K_1 z + z^\\top K_2 z \\ge 0$  \n",
    "پس معتبر است."
   ]
  },
  {
   "cell_type": "markdown",
   "id": "73570dcd",
   "metadata": {},
   "source": [
    "**(۶.۱۸)**  \n",
    "$k(\\mathbf{x},\\mathbf{x}') = k_1(\\mathbf{x},\\mathbf{x}')\\,k_2(\\mathbf{x},\\mathbf{x}')$  \n",
    "\n",
    "نمایش فضای ویژگی: اگر $k_i(\\mathbf{x},\\mathbf{x}')=\\phi_i(\\mathbf{x})^\\top\\phi_i(\\mathbf{x}')$، آنگاه با تعریف  \n",
    "$\\psi(\\mathbf{x}) = \\phi_1(\\mathbf{x}) \\otimes \\phi_2(\\mathbf{x})$ داریم:  \n",
    "$k(\\mathbf{x},\\mathbf{x}') = \\psi(\\mathbf{x})^\\top\\psi(\\mathbf{x}')$  \n",
    "پس معتبر است."
   ]
  },
  {
   "cell_type": "markdown",
   "id": "6817b71b",
   "metadata": {},
   "source": [
    "## ۶.۸ — قواعد (۶.۱۹) و (۶.۲۰)"
   ]
  },
  {
   "cell_type": "markdown",
   "id": "d602935f",
   "metadata": {},
   "source": [
    "**(۶.۱۹)**  \n",
    "$k(\\mathbf{x},\\mathbf{x}') = k_3\\big(\\phi(\\mathbf{x}),\\phi(\\mathbf{x}')\\big)$  \n",
    "\n",
    "برای نقاط $\\{\\mathbf{x}_n\\}$ بگذارید $\\mathbf{y}_n=\\phi(\\mathbf{x}_n)$. آنگاه $K_{nm}=k_3(\\mathbf{y}_n,\\mathbf{y}_m)$ که گرمِ $k_3$ است و PSD؛ پس معتبر است."
   ]
  },
  {
   "cell_type": "markdown",
   "id": "8927a598",
   "metadata": {},
   "source": [
    "**(۶.۲۰)**  \n",
    "$k(\\mathbf{x},\\mathbf{x}') = \\mathbf{x}^\\top A\\,\\mathbf{x}'$ با $A$ متقارن و نیمه‌معینِ مثبت  \n",
    "\n",
    "برای هر $z$:  \n",
    "$z^\\top K z = \\big(\\sum_n z_n\\mathbf{x}_n\\big)^\\top A\\,\\big(\\sum_m z_m\\mathbf{x}_m\\big) = \\mathbf{v}^\\top A\\,\\mathbf{v} \\ge 0$  \n",
    "پس معتبر است."
   ]
  },
  {
   "cell_type": "markdown",
   "id": "2b5183f1",
   "metadata": {},
   "source": [
    "## ۶.۹ — قواعد (۶.۲۱) و (۶.۲۲)"
   ]
  },
  {
   "cell_type": "markdown",
   "id": "51dc491c",
   "metadata": {},
   "source": [
    "بردار ورودی را به دو بخش می‌نویسیم: $\\mathbf{x}=(\\mathbf{x}_a,\\mathbf{x}_b)$.  \n"
   ]
  },
  {
   "cell_type": "markdown",
   "id": "dde9f4f8",
   "metadata": {},
   "source": [
    "**(۶.۲۱)**  \n",
    "$k(\\mathbf{x},\\mathbf{x}') = k_a(\\mathbf{x}_a,\\mathbf{x}'_a) + k_b(\\mathbf{x}_b,\\mathbf{x}'_b)$  \n",
    "\n",
    "این جمعِ دو کرنل معتبر روی زیرفضایا است؛ بنابراین (طبق ۶.۱۷) معتبر است."
   ]
  },
  {
   "cell_type": "markdown",
   "id": "0c42dbcd",
   "metadata": {},
   "source": [
    "**(۶.۲۲)**  \n",
    "$k(\\mathbf{x},\\mathbf{x}') = k_a(\\mathbf{x}_a,\\mathbf{x}'_a)\\,k_b(\\mathbf{x}_b,\\mathbf{x}'_b)$  \n",
    "\n",
    "این حاصل‌ضربِ دو کرنل معتبر روی زیرفضایا است؛ بنابراین (طبق ۶.۱۸) معتبر است."
   ]
  },
  {
   "cell_type": "markdown",
   "id": "5a3ad7b4",
   "metadata": {},
   "source": [
    "### جمع‌بندی  \n",
    "در همه‌ی موارد بالا، یا مستقیماً $z^\\top K z \\ge 0$ نشان داده شد، یا کرنل به‌صورت ضرب داخلی در فضای ویژگی نوشته شد. هر دو رویکرد، معتبر بودن کرنل را تضمین می‌کند."
   ]
  }
 ],
 "metadata": {},
 "nbformat": 4,
 "nbformat_minor": 5
}
