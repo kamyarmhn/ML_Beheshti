{
 "cells": [
  {
   "cell_type": "markdown",
   "id": "cf913872",
   "metadata": {},
   "source": [
    "# حل تمرین ۱.۱۸ کتاب بیشاپ"
   ]
  },
  {
   "cell_type": "markdown",
   "id": "ba1abd10",
   "metadata": {},
   "source": [
    "## ۱. تبدیل مختصات و رابطه‌ی اولیه\n",
    "\n",
    "با استفاده از تبدیل مختصات دکارتی به کروی در فضای D-بعدی، می‌توان رابطه‌ی زیر را نوشت:\n",
    "\n",
    "$$\n",
    "\\int_{\\mathbb{R}^D} e^{-\\sum x_i^2} \\, d^D x = S_D \\int_0^\\infty e^{-r^2} r^{D-1} \\, dr\n",
    "\\tag{1.142}\n",
    "$$\n",
    "\n",
    "طبق رابطه‌ی گوسی (1.126) داریم:\n",
    "\n",
    "$$\n",
    "\\int_{\\mathbb{R}^D} e^{-\\sum x_i^2} dx = \\pi^{D/2}\n",
    "$$\n"
   ]
  },
  {
   "cell_type": "markdown",
   "id": "95afb47c",
   "metadata": {},
   "source": [
    "## ۲. استفاده از تابع گاما\n",
    "\n",
    "تابع گاما به‌صورت زیر تعریف می‌شود:\n",
    "\n",
    "$$\n",
    "\\Gamma(z) = \\int_0^\\infty e^{-t} t^{z - 1} dt\n",
    "$$\n",
    "\n",
    "با تغییر متغیر \n",
    "\n",
    "$( u = r^2 \\Rightarrow du = 2r \\, dr )$\n",
    "\n",
    "داریم:\n",
    "\n",
    "$$\n",
    "\\int_0^\\infty e^{-r^2} r^{D-1} dr = \\frac{1}{2} \\int_0^\\infty e^{-u} u^{D/2 - 1} du = \\frac{1}{2} \\Gamma(D/2)\n",
    "$$\n"
   ]
  },
  {
   "cell_type": "markdown",
   "id": "39142875",
   "metadata": {},
   "source": [
    "## ۳. نتیجه‌گیری برای مساحت سطح کره (D-بعدی)\n",
    "\n",
    "با جایگذاری در رابطه‌ی (1.142):\n",
    "\n",
    "$$\n",
    "\\pi^{D/2} = S_D \\cdot \\frac{1}{2} \\Gamma(D/2)\n",
    "\\Rightarrow S_D = \\frac{2 \\pi^{D/2}}{\\Gamma(D/2)} \\tag{1.143}\n",
    "$$\n"
   ]
  },
  {
   "cell_type": "markdown",
   "id": "5614bf01",
   "metadata": {},
   "source": [
    "## ۴. حجم کره واحد در فضای D-بعدی\n",
    "\n",
    "برای محاسبه‌ی حجم کره با شعاع ۱، از رابطه‌ی زیر استفاده می‌کنیم:\n",
    "\n",
    "$$\n",
    "V_D = \\int_0^1 S_D r^{D-1} dr = \\frac{S_D}{D} \\Rightarrow V_D = \\frac{2 \\pi^{D/2}}{D \\cdot \\Gamma(D/2)} \\tag{1.144}\n",
    "$$\n"
   ]
  },
  {
   "cell_type": "markdown",
   "id": "e9dcddb6",
   "metadata": {},
   "source": [
    "## ۵. بررسی حالت‌های خاص\n",
    "\n",
    "### برای \\( D = 2 \\):\n",
    "\n",
    "$$\n",
    "\\Gamma(1) = 1, \\quad S_2 = \\frac{2\\pi}{1} = 2\\pi, \\quad V_2 = \\frac{2\\pi}{2} = \\pi\n",
    "$$\n",
    "\n",
    "### برای \\( D = 3 \\):\n",
    "\n",
    "$$\n",
    "\\Gamma(3/2) = \\frac{\\sqrt{\\pi}}{2}, \\quad S_3 = \\frac{2 \\pi^{3/2}}{\\sqrt{\\pi}/2} = 4\\pi, \\quad V_3 = \\frac{4\\pi}{3}\n",
    "$$\n",
    "\n",
    "که با روابط کلاسیک کاملاً مطابقت دارد.\n"
   ]
  }
 ],
 "metadata": {
  "language_info": {
   "name": "python"
  }
 },
 "nbformat": 4,
 "nbformat_minor": 5
}
